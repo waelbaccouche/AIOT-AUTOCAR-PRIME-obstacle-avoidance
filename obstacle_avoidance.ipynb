{
 "cells": [
  {
   "cell_type": "code",
   "execution_count": 2,
   "metadata": {},
   "outputs": [],
   "source": [
    "from pop import LiDAR, Pilot\n",
    "from pop.Util import imshow\n",
    "import time\n",
    "from pop import Util\n",
    "import cv2\n",
    "\n",
    "# Enable image display using Util module\n",
    "Util.enable_imshow()\n",
    "\n",
    "lidar = LiDAR.Rplidar()\n",
    "car = Pilot.AutoCar()\n"
   ]
  },
  {
   "cell_type": "code",
   "execution_count": 3,
   "metadata": {},
   "outputs": [],
   "source": [
    "lidar.connect()\n",
    "lidar.startMotor()\n",
    "\n",
    "car.setSpeed(90)\n",
    "car.steering = 0"
   ]
  },
  {
   "cell_type": "code",
   "execution_count": null,
   "metadata": {},
   "outputs": [
    {
     "data": {
      "application/vnd.jupyter.widget-view+json": {
       "model_id": "f660811c915c4c4ea053c4ef64bd2598",
       "version_major": 2,
       "version_minor": 0
      },
      "text/plain": [
       "Image(value=b'\\xff\\xd8\\xff\\xe0\\x00\\x10JFIF\\x00\\x01\\x01\\x00\\x00\\x01\\x00\\x01\\x00\\x00\\xff\\xdb\\x00C\\x00\\x02\\x01\\x0…"
      ]
     },
     "metadata": {},
     "output_type": "display_data"
    },
    {
     "data": {
      "application/vnd.jupyter.widget-view+json": {
       "model_id": "8ac04e23234649e5a632f3cf86589960",
       "version_major": 2,
       "version_minor": 0
      },
      "text/plain": [
       "Image(value=b'\\xff\\xd8\\xff\\xe0\\x00\\x10JFIF\\x00\\x01\\x01\\x00\\x00\\x01\\x00\\x01\\x00\\x00\\xff\\xdb\\x00C\\x00\\x02\\x01\\x0…"
      ]
     },
     "metadata": {},
     "output_type": "display_data"
    }
   ],
   "source": [
    "\n",
    "\n",
    "cam=Util.gstrmer(width=640, height=480, fps=60, flip=0)\n",
    "Car = Pilot.AutoCar()\n",
    "camera=cv2.VideoCapture(cam,cv2.CAP_GSTREAMER) #initialiser capture video\n",
    "if not camera.isOpened():\n",
    "    print(\"not found\")\n",
    "while True:\n",
    "    # Read a frame from the camera\n",
    "    ret, frame = camera.read()\n",
    "\n",
    "    # Check if frame is read successfully\n",
    "    if not ret:\n",
    "        break\n",
    "        \n",
    "        \n",
    "    no_collision = True\n",
    "\n",
    "    vectors = lidar.getVectors()\n",
    "    \n",
    "    lidar_map = lidar.getMap(limit_distance = 2000, size=(50,50))\n",
    "    imshow(\"map\", lidar_map)\n",
    "    \n",
    "    filtered_vectors = []\n",
    "    for degree, distance, *other_data in vectors:  # Use unpacking with *other_data\n",
    "        if distance > 200:\n",
    "            filtered_vectors.append((degree, distance))  # Only append relevant data\n",
    "\n",
    "\n",
    "    # Check for obstacles on the left and right sides\n",
    "    left_obstacle = min(distance for degree, distance in filtered_vectors if 210 <= degree <= 330)  # Left side range\n",
    "    right_obstacle = min(distance for degree, distance in filtered_vectors if 30 <= degree <= 150)  # Right side range\n",
    "\n",
    "    # Update steering based on obstacle detection\n",
    "    if left_obstacle and left_obstacle < 700:\n",
    "        car.steering = 1  # Turn right to avoid left obstacle\n",
    "        car.setSpeed(60)  # Reduce speed while turning\n",
    "    elif right_obstacle and right_obstacle < 700:\n",
    "        car.steering = -1  # Turn left to avoid right obstacle\n",
    "        car.setSpeed(60)  # Reduce speed while turning\n",
    "    else:\n",
    "        car.steering = 0  # No obstacle, move straight\n",
    "        car.setSpeed(60)  # Higher speed for straight path\n",
    "\n",
    "    car.forward()\n",
    "    # Display the frame in a window named \"v_test\"\n",
    "    cv2.imshow(\"v_test\", frame)\n",
    "  # Optional: Visualize LiDAR map (uncomment if needed)\n",
    "  # lidar_map = lidar.getMap(limit_distance=2000, size=(50, 50))\n",
    "  # imshow(\"map\", lidar_map)\n",
    "\n",
    "    time.sleep(0.1)  # Short delay between readings\n"
   ]
  },
  {
   "cell_type": "code",
   "execution_count": null,
   "metadata": {},
   "outputs": [],
   "source": [
    "car.stop()\n",
    "lidar.stopMotor()"
   ]
  }
 ],
 "metadata": {
  "kernelspec": {
   "display_name": "Python 3",
   "language": "python",
   "name": "python3"
  },
  "language_info": {
   "codemirror_mode": {
    "name": "ipython",
    "version": 3
   },
   "file_extension": ".py",
   "mimetype": "text/x-python",
   "name": "python",
   "nbconvert_exporter": "python",
   "pygments_lexer": "ipython3",
   "version": "3.6.9"
  }
 },
 "nbformat": 4,
 "nbformat_minor": 4
}
